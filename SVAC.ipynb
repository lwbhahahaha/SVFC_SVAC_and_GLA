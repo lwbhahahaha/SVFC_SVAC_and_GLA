{
 "cells": [
  {
   "cell_type": "code",
   "execution_count": 219,
   "metadata": {},
   "outputs": [
    {
     "data": {
      "text/plain": [
       "queens (generic function with 1 method)"
      ]
     },
     "execution_count": 219,
     "metadata": {},
     "output_type": "execute_result"
    }
   ],
   "source": [
    "mutable struct variable\n",
    "    col\n",
    "    d\n",
    "end\n",
    "function queens(row1, col1, row2, col2)\n",
    "    con1 = col1 == col2 \n",
    "    con2 = abs(row1 - row2) == abs(col1 - col2)\n",
    "    # println(\"\\t\\t\\ttesting [$row1, $col1] and [$row2, $col2], result = $(!(con1 || con2))\")\n",
    "    return !(con1 || con2)\n",
    "end"
   ]
  },
  {
   "cell_type": "code",
   "execution_count": 220,
   "metadata": {},
   "outputs": [
    {
     "data": {
      "text/plain": [
       "false"
      ]
     },
     "execution_count": 220,
     "metadata": {},
     "output_type": "execute_result"
    }
   ],
   "source": [
    "queens(1, 1, 6, 6)"
   ]
  },
  {
   "cell_type": "code",
   "execution_count": 221,
   "metadata": {},
   "outputs": [
    {
     "data": {
      "text/plain": [
       "SVAC (generic function with 1 method)"
      ]
     },
     "execution_count": 221,
     "metadata": {},
     "output_type": "execute_result"
    }
   ],
   "source": [
    "function SVAC(vars,i)\n",
    "    n = length(vars)\n",
    "    d_copy = []\n",
    "    for j = i+1 : n\n",
    "        push!(d_copy, deepcopy(vars[j].d))\n",
    "    end\n",
    "    while length(vars[i].d) > 0\n",
    "        a = popfirst!(vars[i].d)\n",
    "        println(\"\\tConsider \\$ q_$i = $a\\$. applying SVAC:  \")\n",
    "        removed_value = true\n",
    "        while removed_value\n",
    "            removed_value = false\n",
    "            for j = i+1 : n\n",
    "                elim_list = []\n",
    "                for k = i+1 : n\n",
    "                    if j != k\n",
    "                        m = 1\n",
    "                        while m <= length(vars[j].d)\n",
    "                            b = vars[j].d[m]\n",
    "                            no_value_c = true\n",
    "                            for c in vars[k].d\n",
    "                                c_is_good = true\n",
    "                                for p = 1 : i-1\n",
    "                                    p_col = vars[p].col\n",
    "                                    if !queens(p, p_col, i, a) || !queens(p, p_col, j, b) || !queens(p, p_col, k, c)\n",
    "                                        # println(\"\\t1 queens($p, $p_col, $i, $a) && queens($p, $p_col, $j, $b) && queens($p, $p_col, $k, $c)\")\n",
    "                                        c_is_good = false\n",
    "                                        break\n",
    "                                    end\n",
    "                                end\n",
    "                                # if j==6\n",
    "                                #     println(\"queens($i, $a, $j, $b) = $(queens(i, a, j, b))\")\n",
    "                                # end\n",
    "                                if !queens(i, a, j, b) || !queens(j, b, k, c) || !queens(i, a, k, c)\n",
    "                                    # println(\"\\t2 queens($i, $a, $j, $b) && queens($j, $b, $k, $c) && queens($i, $a, $k, $c)\")\n",
    "                                    c_is_good = false\n",
    "                                end\n",
    "                                if c_is_good\n",
    "                                    no_value_c = false\n",
    "                                    break\n",
    "                                end\n",
    "                            end\n",
    "                            if no_value_c\n",
    "                                # println(\"i = $i, j = $j, k = $k, a = $a, b = $b, REMOVE\")\n",
    "                                deleteat!(vars[j].d, m)\n",
    "                                push!(elim_list, b)\n",
    "                                removed_value = true\n",
    "                            else\n",
    "                                # println(\"i = $i, j = $j, k = $k, a = $a, b = $b, KEEP\")\n",
    "                                m += 1\n",
    "                            end\n",
    "                        end\n",
    "                    end\n",
    "                end\n",
    "                if length(elim_list) > 0\n",
    "                    str = \"\\t- Removing\"\n",
    "                    for elim in elim_list\n",
    "                        str *= \" $elim,\"\n",
    "                    end\n",
    "                    str = chop(str, tail = 1)\n",
    "                    str *= \" from \\$ q_$j\\$, domain of \\$ q_$j\\$ is now \"\n",
    "                    if length(vars[j].d) > 0\n",
    "                        println(\"$str$(vars[j].d)  \")\n",
    "                    else\n",
    "                        println(\"[]  \")\n",
    "                    end\n",
    "                end\n",
    "            end\n",
    "        end\n",
    "        reset = false\n",
    "        for j = i+1 : n\n",
    "            if length(vars[j].d) == 0\n",
    "                reset = true\n",
    "                break\n",
    "            end\n",
    "        end\n",
    "        if reset\n",
    "            println(\"\\tOne of the furture domains became empty.\")\n",
    "            for j = i+1 : n\n",
    "                vars[j].d = deepcopy(d_copy[j-i])\n",
    "                println(\"\\t- Restoring domain of \\$ q_$j\\$ to $(vars[j].d)  \")\n",
    "            end\n",
    "        else\n",
    "            println(\"\\tChoose \\$ q_$i\\$ = $a. Domain of \\$ q_$i\\$ is now $(vars[i].d)  \")\n",
    "            return a\n",
    "        end\n",
    "    end\n",
    "    return \"nothing\"\n",
    "end"
   ]
  },
  {
   "cell_type": "code",
   "execution_count": 222,
   "metadata": {},
   "outputs": [],
   "source": [
    "vars = []\n",
    "for i = 1:6\n",
    "    push!(vars, variable(i,[1,2,3,4,5,6]))\n",
    "end"
   ]
  },
  {
   "cell_type": "code",
   "execution_count": 223,
   "metadata": {},
   "outputs": [
    {
     "name": "stdout",
     "output_type": "stream",
     "text": [
      "* Step 1  \n",
      "\tConsider $ q_1 = 1$. applying SVAC:  \n",
      "\t- Removing 1, 2 from $ q_2$, domain of $ q_2$ is now [3, 4, 5, 6]  \n",
      "\t- Removing 1, 3 from $ q_3$, domain of $ q_3$ is now [2, 4, 5, 6]  \n",
      "\t- Removing 1, 4 from $ q_4$, domain of $ q_4$ is now [2, 3, 5, 6]  \n",
      "\t- Removing 1, 5 from $ q_5$, domain of $ q_5$ is now [2, 3, 4, 6]  \n",
      "\t- Removing 1, 6 from $ q_6$, domain of $ q_6$ is now [2, 3, 4, 5]  \n",
      "\tChoose $ q_1$ = 1. Domain of $ q_1$ is now [2, 3, 4, 5, 6]  \n"
     ]
    },
    {
     "data": {
      "text/plain": [
       "1"
      ]
     },
     "execution_count": 223,
     "metadata": {},
     "output_type": "execute_result"
    }
   ],
   "source": [
    "println(\"* Step 1  \")\n",
    "vars[1].col = SVAC(vars,1)"
   ]
  },
  {
   "cell_type": "code",
   "execution_count": 224,
   "metadata": {},
   "outputs": [
    {
     "name": "stdout",
     "output_type": "stream",
     "text": [
      "* Step 2  \n",
      "\tConsider $ q_2 = 3$. applying SVAC:  \n",
      "\t- Removing 2, 4 from $ q_3$, domain of $ q_3$ is now [5, 6]  \n",
      "\t- Removing 3, 5, 6 from $ q_4$, domain of $ q_4$ is now [2]  \n",
      "\t- Removing 3, 6, 2 from $ q_5$, domain of $ q_5$ is now [4]  \n",
      "\t- Removing 3, 2, 4, 5 from $ q_6$, domain of $ q_6$ is now Int64[]  \n",
      "\t- Removing 6, 5 from $ q_3$, domain of $ q_3$ is now Int64[]  \n",
      "\t- Removing 2 from $ q_4$, domain of $ q_4$ is now Int64[]  \n",
      "\t- Removing 4 from $ q_5$, domain of $ q_5$ is now Int64[]  \n",
      "\tOne of the furture domains became empty.\n",
      "\t- Restoring domain of $ q_3$ to [2, 4, 5, 6]  \n",
      "\t- Restoring domain of $ q_4$ to [2, 3, 5, 6]  \n",
      "\t- Restoring domain of $ q_5$ to [2, 3, 4, 6]  \n",
      "\t- Restoring domain of $ q_6$ to [2, 3, 4, 5]  \n",
      "\tConsider $ q_2 = 4$. applying SVAC:  \n",
      "\t- Removing 4, 5 from $ q_3$, domain of $ q_3$ is now [2, 6]  \n",
      "\t- Removing 2, 6 from $ q_4$, domain of $ q_4$ is now [3, 5]  \n",
      "\t- Removing 4 from $ q_5$, domain of $ q_5$ is now [2, 3, 6]  \n",
      "\t- Removing 4, 3, 5 from $ q_6$, domain of $ q_6$ is now [2]  \n",
      "\t- Removing 2 from $ q_3$, domain of $ q_3$ is now [6]  \n",
      "\t- Removing 5 from $ q_4$, domain of $ q_4$ is now [3]  \n",
      "\t- Removing 6, 2, 3 from $ q_5$, domain of $ q_5$ is now Int64[]  \n",
      "\t- Removing 2 from $ q_6$, domain of $ q_6$ is now Int64[]  \n",
      "\t- Removing 6 from $ q_3$, domain of $ q_3$ is now Int64[]  \n",
      "\t- Removing 3 from $ q_4$, domain of $ q_4$ is now Int64[]  \n",
      "\tOne of the furture domains became empty.\n",
      "\t- Restoring domain of $ q_3$ to [2, 4, 5, 6]  \n",
      "\t- Restoring domain of $ q_4$ to [2, 3, 5, 6]  \n",
      "\t- Restoring domain of $ q_5$ to [2, 3, 4, 6]  \n",
      "\t- Restoring domain of $ q_6$ to [2, 3, 4, 5]  \n",
      "\tConsider $ q_2 = 5$. applying SVAC:  \n",
      "\t- Removing 4, 5, 6 from $ q_3$, domain of $ q_3$ is now [2]  \n",
      "\t- Removing 2, 3, 5 from $ q_4$, domain of $ q_4$ is now [6]  \n",
      "\t- Removing 2, 4, 6, 3 from $ q_5$, domain of $ q_5$ is now Int64[]  \n",
      "\t- Removing 2, 5, 4, 3 from $ q_6$, domain of $ q_6$ is now Int64[]  \n",
      "\t- Removing 2 from $ q_3$, domain of $ q_3$ is now Int64[]  \n",
      "\t- Removing 6 from $ q_4$, domain of $ q_4$ is now Int64[]  \n",
      "\tOne of the furture domains became empty.\n",
      "\t- Restoring domain of $ q_3$ to [2, 4, 5, 6]  \n",
      "\t- Restoring domain of $ q_4$ to [2, 3, 5, 6]  \n",
      "\t- Restoring domain of $ q_5$ to [2, 3, 4, 6]  \n",
      "\t- Restoring domain of $ q_6$ to [2, 3, 4, 5]  \n",
      "\tConsider $ q_2 = 6$. applying SVAC:  \n",
      "\t- Removing 5, 6, 2, 4 from $ q_3$, domain of $ q_3$ is now Int64[]  \n",
      "\t- Removing 2, 3, 5, 6 from $ q_4$, domain of $ q_4$ is now Int64[]  \n",
      "\t- Removing 2, 3, 4, 6 from $ q_5$, domain of $ q_5$ is now Int64[]  \n",
      "\t- Removing 2, 3, 4, 5 from $ q_6$, domain of $ q_6$ is now Int64[]  \n",
      "\tOne of the furture domains became empty.\n",
      "\t- Restoring domain of $ q_3$ to [2, 4, 5, 6]  \n",
      "\t- Restoring domain of $ q_4$ to [2, 3, 5, 6]  \n",
      "\t- Restoring domain of $ q_5$ to [2, 3, 4, 6]  \n",
      "\t- Restoring domain of $ q_6$ to [2, 3, 4, 5]  \n"
     ]
    },
    {
     "data": {
      "text/plain": [
       "\"nothing\""
      ]
     },
     "execution_count": 224,
     "metadata": {},
     "output_type": "execute_result"
    }
   ],
   "source": [
    "println(\"* Step 2  \")\n",
    "vars[2].col = SVAC(vars,2)"
   ]
  },
  {
   "cell_type": "code",
   "execution_count": 225,
   "metadata": {},
   "outputs": [
    {
     "name": "stdout",
     "output_type": "stream",
     "text": [
      "* Step 3  \n",
      "\tConsider $ q_3 = 2$. applying SVAC:  \n"
     ]
    },
    {
     "ename": "LoadError",
     "evalue": "MethodError: no method matching -(::String, ::Int64)\n\u001b[0mClosest candidates are:\n\u001b[0m  -(\u001b[91m::T\u001b[39m, ::T) where T<:Union{Int128, Int16, Int32, Int64, Int8, UInt128, UInt16, UInt32, UInt64, UInt8} at C:\\Users\\Administrator.WIN-2EPKD7D6018\\AppData\\Local\\Programs\\Julia-1.7.2\\share\\julia\\base\\int.jl:86\n\u001b[0m  -(\u001b[91m::Rational\u001b[39m, ::Integer) at C:\\Users\\Administrator.WIN-2EPKD7D6018\\AppData\\Local\\Programs\\Julia-1.7.2\\share\\julia\\base\\rational.jl:311\n\u001b[0m  -(\u001b[91m::T\u001b[39m, ::Integer) where T<:AbstractChar at C:\\Users\\Administrator.WIN-2EPKD7D6018\\AppData\\Local\\Programs\\Julia-1.7.2\\share\\julia\\base\\char.jl:227\n\u001b[0m  ...",
     "output_type": "error",
     "traceback": [
      "MethodError: no method matching -(::String, ::Int64)\n\u001b[0mClosest candidates are:\n\u001b[0m  -(\u001b[91m::T\u001b[39m, ::T) where T<:Union{Int128, Int16, Int32, Int64, Int8, UInt128, UInt16, UInt32, UInt64, UInt8} at C:\\Users\\Administrator.WIN-2EPKD7D6018\\AppData\\Local\\Programs\\Julia-1.7.2\\share\\julia\\base\\int.jl:86\n\u001b[0m  -(\u001b[91m::Rational\u001b[39m, ::Integer) at C:\\Users\\Administrator.WIN-2EPKD7D6018\\AppData\\Local\\Programs\\Julia-1.7.2\\share\\julia\\base\\rational.jl:311\n\u001b[0m  -(\u001b[91m::T\u001b[39m, ::Integer) where T<:AbstractChar at C:\\Users\\Administrator.WIN-2EPKD7D6018\\AppData\\Local\\Programs\\Julia-1.7.2\\share\\julia\\base\\char.jl:227\n\u001b[0m  ...",
      "",
      "Stacktrace:",
      " [1] queens(row1::Int64, col1::String, row2::Int64, col2::Int64)",
      "   @ Main .\\In[219]:7",
      " [2] SVAC(vars::Vector{Any}, i::Int64)",
      "   @ Main .\\In[221]:25",
      " [3] top-level scope",
      "   @ In[225]:2",
      " [4] eval",
      "   @ .\\boot.jl:373 [inlined]",
      " [5] include_string(mapexpr::typeof(REPL.softscope), mod::Module, code::String, filename::String)",
      "   @ Base .\\loading.jl:1196"
     ]
    }
   ],
   "source": [
    "println(\"* Step 3  \")\n",
    "vars[3].col = SVAC(vars,3)"
   ]
  },
  {
   "cell_type": "code",
   "execution_count": null,
   "metadata": {},
   "outputs": [],
   "source": [
    "SVAC(vars,4)"
   ]
  }
 ],
 "metadata": {
  "kernelspec": {
   "display_name": "Julia (auto threads) 1.7.2",
   "language": "julia",
   "name": "julia-(auto-threads)-1.7"
  },
  "language_info": {
   "file_extension": ".jl",
   "mimetype": "application/julia",
   "name": "julia",
   "version": "1.7.2"
  },
  "orig_nbformat": 4,
  "vscode": {
   "interpreter": {
    "hash": "c56527485b7c9dd36c8c8808345694ae9d0a642c0f00dfb6356f9a65494ceb50"
   }
  }
 },
 "nbformat": 4,
 "nbformat_minor": 2
}
